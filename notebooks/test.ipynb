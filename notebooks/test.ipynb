{
 "cells": [
  {
   "cell_type": "code",
   "execution_count": 1,
   "metadata": {},
   "outputs": [],
   "source": [
    "import torch\n",
    "import matplotlib.pyplot as plt\n",
    "from turbozero import *"
   ]
  },
  {
   "cell_type": "code",
   "execution_count": null,
   "metadata": {},
   "outputs": [],
   "source": [
    "tester = load_tester_nb(\n",
    "    config_file='../example_configs/othello_baselines.yaml', #TODO: specify a config file\n",
    "    gpu=torch.cuda.is_available(),\n",
    "    debug=False,\n",
    "    logfile='../turbozero.log',\n",
    "    verbose_logging=True,\n",
    "    checkpoint='../checkpoints/path/to/your/checkpoint.pt'\n",
    ")\n",
    "plt.close('all');"
   ]
  },
  {
   "cell_type": "code",
   "execution_count": null,
   "metadata": {},
   "outputs": [],
   "source": [
    "# sometimes JupyterLab stops reporting cell output properly and if something breaks you may lose the stack trace! this ensures it is captured in the log \n",
    "try:\n",
    "    tester.collect_test_batch()\n",
    "except Exception as e:\n",
    "    logging.exception(e) \n",
    "    raise e"
   ]
  }
 ],
 "metadata": {
  "kernelspec": {
   "display_name": "python3",
   "language": "python",
   "name": "python3"
  },
  "language_info": {
   "codemirror_mode": {
    "name": "ipython",
    "version": 3
   },
   "file_extension": ".py",
   "mimetype": "text/x-python",
   "name": "python",
   "nbconvert_exporter": "python",
   "pygments_lexer": "ipython3",
   "version": "3.8.16"
  },
  "orig_nbformat": 4
 },
 "nbformat": 4,
 "nbformat_minor": 2
}
